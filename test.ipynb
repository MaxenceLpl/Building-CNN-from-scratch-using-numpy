{
 "cells": [
  {
   "cell_type": "code",
   "execution_count": 1,
   "id": "ccd3064f",
   "metadata": {},
   "outputs": [],
   "source": [
    "import numpy as np"
   ]
  },
  {
   "cell_type": "code",
   "execution_count": 2,
   "id": "c3602c44",
   "metadata": {},
   "outputs": [],
   "source": [
    "from src.lib.model import model\n",
    "from src.lib.activation_functions import ReLu, softmax\n",
    "from src.lib.layers import Dense, flatten, BatchNorm1D\n",
    "from src.lib.loss_functions import CrossEntropy\n",
    "from src.lib.trainer import trainer\n",
    "from src.lib.optimizers import Adam, SGD"
   ]
  },
  {
   "cell_type": "code",
   "execution_count": 4,
   "id": "ec3e3a7a",
   "metadata": {},
   "outputs": [
    {
     "name": "stdout",
     "output_type": "stream",
     "text": [
      "(60000, 10)\n",
      "(10000, 10)\n"
     ]
    }
   ],
   "source": [
    "\n",
    "from tensorflow.keras.datasets import fashion_mnist\n",
    "\n",
    "num_classes = 10\n",
    "# Chargement\n",
    "(x_train, y_train), (x_test, y_test) = fashion_mnist.load_data()\n",
    "\n",
    "# Normaliser\n",
    "x_train = x_train / 255.0\n",
    "x_test = x_test / 255.0\n",
    "\n",
    "def one_hot_encode(y, num_classes):\n",
    "    return np.eye(num_classes)[y]\n",
    "\n",
    "# Utilisation\n",
    "y_train_encoded = one_hot_encode(y_train, num_classes)\n",
    "y_test_encoded = one_hot_encode(y_test, num_classes)\n",
    "\n",
    "print(y_train_encoded.shape)  # (60000, 10)\n",
    "print(y_test_encoded.shape)   # (10000, 10)\n"
   ]
  },
  {
   "cell_type": "code",
   "execution_count": 5,
   "id": "30c6e0f9",
   "metadata": {},
   "outputs": [],
   "source": [
    "fashion_mnist_labels = {\n",
    "    0: \"T-shirt/top\",\n",
    "    1: \"Trouser\",\n",
    "    2: \"Pullover\",\n",
    "    3: \"Dress\",\n",
    "    4: \"Coat\",\n",
    "    5: \"Sandal\",\n",
    "    6: \"Shirt\",\n",
    "    7: \"Sneaker\",\n",
    "    8: \"Bag\",\n",
    "    9: \"Ankle boot\"\n",
    "}\n"
   ]
  },
  {
   "cell_type": "code",
   "execution_count": null,
   "id": "e42104cc",
   "metadata": {},
   "outputs": [
    {
     "name": "stdout",
     "output_type": "stream",
     "text": [
      "0\n",
      "2.4149368\n",
      "0.036\n",
      "1\n",
      "0.51638293\n",
      "0.8208\n",
      "2\n",
      "0.47656336\n",
      "0.8305\n",
      "3\n",
      "0.4517085\n",
      "0.8418\n",
      "4\n"
     ]
    }
   ],
   "source": [
    "optimizer = SGD(learning_rate=0.01)\n",
    "\n",
    "model_mnist = model([flatten(), Dense(784, 128), BatchNorm1D(128), ReLu(), Dense(128, 10), CrossEntropy(10, l2_lambda=0)])\n",
    "trainer_mnist = trainer(model_mnist, x_train, y_train_encoded, custom_train_test_set=(x_train, y_train_encoded, x_test, y_test_encoded))\n",
    "trainer_mnist.train(nb_epochs = 20, optimizer=optimizer)\n"
   ]
  }
 ],
 "metadata": {
  "kernelspec": {
   "display_name": "Python 3",
   "language": "python",
   "name": "python3"
  },
  "language_info": {
   "codemirror_mode": {
    "name": "ipython",
    "version": 3
   },
   "file_extension": ".py",
   "mimetype": "text/x-python",
   "name": "python",
   "nbconvert_exporter": "python",
   "pygments_lexer": "ipython3",
   "version": "3.11.4"
  }
 },
 "nbformat": 4,
 "nbformat_minor": 5
}
