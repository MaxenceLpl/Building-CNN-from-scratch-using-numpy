{
 "cells": [
  {
   "cell_type": "code",
   "execution_count": 1,
   "id": "d9d00d52",
   "metadata": {},
   "outputs": [],
   "source": [
    "import numpy as np"
   ]
  },
  {
   "cell_type": "code",
   "execution_count": 2,
   "id": "c3602c44",
   "metadata": {},
   "outputs": [],
   "source": [
    "from src.lib.model import model\n",
    "from src.lib.activation_functions import ReLu, softmax\n",
    "from src.lib.layers import Dense, flatten, BatchNorm1D, Conv2D, MaxPooling2D\n",
    "from src.lib.loss_functions import CrossEntropy\n",
    "from src.lib.trainer import trainer\n",
    "from src.lib.optimizers import Adam, SGD, AdamGPU"
   ]
  },
  {
   "cell_type": "code",
   "execution_count": 3,
   "id": "ec3e3a7a",
   "metadata": {},
   "outputs": [
    {
     "name": "stdout",
     "output_type": "stream",
     "text": [
      "(60000, 10)\n",
      "(10000, 10)\n"
     ]
    }
   ],
   "source": [
    "\n",
    "from tensorflow.keras.datasets import fashion_mnist\n",
    "\n",
    "num_classes = 10\n",
    "# Chargement\n",
    "(x_train, y_train), (x_test, y_test) = fashion_mnist.load_data()\n",
    "\n",
    "# Normaliser\n",
    "x_train = x_train / 255.0\n",
    "x_test = x_test / 255.0\n",
    "\n",
    "def one_hot_encode(y, num_classes):\n",
    "    return np.eye(num_classes)[y]\n",
    "\n",
    "# Utilisation\n",
    "y_train_encoded = one_hot_encode(y_train, num_classes)\n",
    "y_test_encoded = one_hot_encode(y_test, num_classes)\n",
    "\n",
    "print(y_train_encoded.shape)  # (60000, 10)\n",
    "print(y_test_encoded.shape)   # (10000, 10)\n"
   ]
  },
  {
   "cell_type": "code",
   "execution_count": 4,
   "id": "30c6e0f9",
   "metadata": {},
   "outputs": [],
   "source": [
    "fashion_mnist_labels = {\n",
    "    0: \"T-shirt/top\",\n",
    "    1: \"Trouser\",\n",
    "    2: \"Pullover\",\n",
    "    3: \"Dress\",\n",
    "    4: \"Coat\",\n",
    "    5: \"Sandal\",\n",
    "    6: \"Shirt\",\n",
    "    7: \"Sneaker\",\n",
    "    8: \"Bag\",\n",
    "    9: \"Ankle boot\"\n",
    "}\n"
   ]
  },
  {
   "cell_type": "code",
   "execution_count": 5,
   "id": "5ab4bba7",
   "metadata": {},
   "outputs": [],
   "source": [
    "x_train = x_train[:, np.newaxis, :, :]\n",
    "x_test = x_test[:, np.newaxis, :, :]"
   ]
  },
  {
   "cell_type": "code",
   "execution_count": 11,
   "id": "fca56e57",
   "metadata": {},
   "outputs": [
    {
     "name": "stdout",
     "output_type": "stream",
     "text": [
      "<module 'cupy' from 'c:\\\\Python311\\\\Lib\\\\site-packages\\\\cupy\\\\__init__.py'>\n"
     ]
    }
   ],
   "source": [
    "from src.lib.backend import backend\n",
    "\n",
    "backend.set_gpu(True)\n",
    "\n",
    "np = backend.xp\n",
    "\n",
    "print(np)\n"
   ]
  },
  {
   "cell_type": "code",
   "execution_count": null,
   "id": "dcda3be9",
   "metadata": {},
   "outputs": [],
   "source": [
    "#1mn07 GPU\n",
    "#adamgpy 51.9s\n",
    "#cpu 26.7s\n",
    "\n",
    "#cpu 52.3s\n",
    "#gpu 33.6s\n",
    "#adamgpu 20.8s"
   ]
  },
  {
   "cell_type": "code",
   "execution_count": 14,
   "id": "18aebc5b",
   "metadata": {},
   "outputs": [
    {
     "name": "stdout",
     "output_type": "stream",
     "text": [
      "(60000, 1, 28, 28)\n",
      "┌──────────────────────────────────────────────────────────────────────┐\n",
      "Layer (type)         Input Shape               Output Shape             \n",
      "├────────────────────┬─────────────────────────┬─────────────────────────┤\n",
      "flatten              (1, 28, 28)               (784,)                   \n",
      "Dense                (784,)                    (512,)                   \n",
      "BatchNorm1D          (512,)                    (512,)                   \n",
      "ReLu                 (512,)                    (512,)                   \n",
      "Dense                (512,)                    (128,)                   \n",
      "BatchNorm1D          (128,)                    (128,)                   \n",
      "ReLu                 (128,)                    (128,)                   \n",
      "Dense                (128,)                    (10,)                    \n",
      "CrossEntropy         (10,)                     10                       \n",
      "└──────────────────────────────────────────────────────────────────────┘\n",
      "0\n",
      "2.3113215\n",
      "0.1171\n",
      "1\n",
      "0.5529833\n",
      "0.8336\n",
      "2\n",
      "0.39079058\n",
      "0.8638\n",
      "3\n",
      "0.35455564\n",
      "0.8688\n",
      "4\n",
      "0.3744907\n",
      "0.8605\n",
      "5\n",
      "0.3494463\n",
      "0.8752\n",
      "6\n",
      "0.38201705\n",
      "0.8633\n",
      "7\n",
      "0.3553157\n",
      "0.8724\n",
      "8\n",
      "0.35736904\n",
      "0.8783\n",
      "9\n",
      "0.42494044\n",
      "0.8514\n",
      "10\n",
      "0.34650847\n",
      "0.8825\n",
      "final\n",
      "0.34650847\n",
      "0.8825\n",
      " "
     ]
    },
    {
     "name": "stdout",
     "output_type": "stream",
     "text": [
      "         398712 function calls in 20.703 seconds\n",
      "\n",
      "   Ordered by: cumulative time\n",
      "   List reduced from 148 to 20 due to restriction <20>\n",
      "\n",
      "   ncalls  tottime  percall  cumtime  percall filename:lineno(function)\n",
      "        1    0.000    0.000   20.703   20.703 {built-in method builtins.exec}\n",
      "        1    0.000    0.000   20.703   20.703 <string>:1(<module>)\n",
      "        1    0.022    0.022   20.703   20.703 trainer.py:59(train)\n",
      "     1192    0.091    0.000    9.640    0.008 model.py:31(forward)\n",
      "     1180    0.073    0.000    8.486    0.007 model.py:48(backward)\n",
      "     2360    3.086    0.001    4.705    0.002 layers.py:113(backward)\n",
      "     2384    2.828    0.001    4.692    0.002 layers.py:94(forward)\n",
      "     1192    0.824    0.001    3.470    0.003 loss_functions.py:13(forward)\n",
      "    17736    0.082    0.000    2.918    0.000 sumprod.py:11(sum)\n",
      "    17736    2.806    0.000    2.806    0.000 {method 'sum' of 'cupy._core.core._ndarray_base' objects}\n",
      "     1180    0.105    0.000    1.877    0.002 model.py:62(update_params)\n",
      "     3540    1.073    0.000    1.869    0.001 layers.py:39(backward)\n",
      "     1192    0.537    0.000    1.769    0.001 loss_functions.py:54(calculate_accuracy)\n",
      "    11800    1.690    0.000    1.694    0.000 optimizers.py:27(__call__)\n",
      "     2360    0.009    0.000    1.375    0.001 meanvar.py:188(std)\n",
      "     2360    1.366    0.001    1.366    0.001 {method 'std' of 'cupy._core.core._ndarray_base' objects}\n",
      "     4744    0.016    0.000    1.206    0.000 meanvar.py:143(mean)\n",
      "     4744    1.188    0.000    1.189    0.000 {method 'mean' of 'cupy._core.core._ndarray_base' objects}\n",
      "     1180    0.734    0.001    1.087    0.001 loss_functions.py:44(backward)\n",
      "     3576    0.947    0.000    1.008    0.000 layers.py:33(forward)"
     ]
    }
   ],
   "source": [
    "optimizer = AdamGPU(learning_rate=0.001)\n",
    "\n",
    "input_shape = x_train.shape\n",
    "\n",
    "print(input_shape)\n",
    "\n",
    "x_train = backend.asarray(x_train)\n",
    "y_train_encoded = backend.asarray(y_train_encoded)\n",
    "x_test = backend.asarray(x_test)\n",
    "y_test_encoded = backend.asarray(y_test_encoded)\n",
    "\n",
    "model_mnist = model([\n",
    "    \n",
    "    flatten(),\n",
    "    Dense(512),\n",
    "    BatchNorm1D(), \n",
    "    ReLu(), \n",
    "\n",
    "    \n",
    "    Dense(128),\n",
    "    BatchNorm1D(), \n",
    "    ReLu(), \n",
    "    \n",
    "    Dense(10), \n",
    "    \n",
    "    CrossEntropy(l2_lambda=0)\n",
    "], \n",
    "input_shape=input_shape)\n",
    "\n",
    "model_mnist.summary()\n",
    "\n",
    "\n",
    "trainer_mnist = trainer(model_mnist, x_train, y_train_encoded, custom_train_test_set=(x_train, y_train_encoded, x_test, y_test_encoded))\n",
    "# Dans une cellule Jupyter :\n",
    "%prun -l 20 -s cumulative trainer_mnist.train(nb_epochs = 10, optimizer=optimizer, batch_size = 512)\n"
   ]
  }
 ],
 "metadata": {
  "kernelspec": {
   "display_name": "Python 3",
   "language": "python",
   "name": "python3"
  },
  "language_info": {
   "codemirror_mode": {
    "name": "ipython",
    "version": 3
   },
   "file_extension": ".py",
   "mimetype": "text/x-python",
   "name": "python",
   "nbconvert_exporter": "python",
   "pygments_lexer": "ipython3",
   "version": "3.11.4"
  }
 },
 "nbformat": 4,
 "nbformat_minor": 5
}
