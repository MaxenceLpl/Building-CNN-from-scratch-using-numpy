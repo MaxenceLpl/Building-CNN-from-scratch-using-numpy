{
 "cells": [
  {
   "cell_type": "code",
   "execution_count": 1,
   "id": "ccd3064f",
   "metadata": {},
   "outputs": [],
   "source": [
    "import numpy as np"
   ]
  },
  {
   "cell_type": "code",
   "execution_count": 2,
   "id": "c3602c44",
   "metadata": {},
   "outputs": [],
   "source": [
    "from src.lib.model import model\n",
    "from src.lib.activation_functions import ReLu, softmax\n",
    "from src.lib.layers import Dense, flatten, BatchNorm1D, Conv2D, MaxPooling2D\n",
    "from src.lib.loss_functions import CrossEntropy\n",
    "from src.lib.trainer import trainer\n",
    "from src.lib.optimizers import Adam, SGD"
   ]
  },
  {
   "cell_type": "code",
   "execution_count": 3,
   "id": "ec3e3a7a",
   "metadata": {},
   "outputs": [
    {
     "name": "stdout",
     "output_type": "stream",
     "text": [
      "(60000, 10)\n",
      "(10000, 10)\n"
     ]
    }
   ],
   "source": [
    "\n",
    "from tensorflow.keras.datasets import fashion_mnist\n",
    "\n",
    "num_classes = 10\n",
    "# Chargement\n",
    "(x_train, y_train), (x_test, y_test) = fashion_mnist.load_data()\n",
    "\n",
    "# Normaliser\n",
    "x_train = x_train / 255.0\n",
    "x_test = x_test / 255.0\n",
    "\n",
    "def one_hot_encode(y, num_classes):\n",
    "    return np.eye(num_classes)[y]\n",
    "\n",
    "# Utilisation\n",
    "y_train_encoded = one_hot_encode(y_train, num_classes)\n",
    "y_test_encoded = one_hot_encode(y_test, num_classes)\n",
    "\n",
    "print(y_train_encoded.shape)  # (60000, 10)\n",
    "print(y_test_encoded.shape)   # (10000, 10)\n"
   ]
  },
  {
   "cell_type": "code",
   "execution_count": 4,
   "id": "30c6e0f9",
   "metadata": {},
   "outputs": [],
   "source": [
    "fashion_mnist_labels = {\n",
    "    0: \"T-shirt/top\",\n",
    "    1: \"Trouser\",\n",
    "    2: \"Pullover\",\n",
    "    3: \"Dress\",\n",
    "    4: \"Coat\",\n",
    "    5: \"Sandal\",\n",
    "    6: \"Shirt\",\n",
    "    7: \"Sneaker\",\n",
    "    8: \"Bag\",\n",
    "    9: \"Ankle boot\"\n",
    "}\n"
   ]
  },
  {
   "cell_type": "code",
   "execution_count": 5,
   "id": "5ab4bba7",
   "metadata": {},
   "outputs": [],
   "source": [
    "x_train = x_train[:, np.newaxis, :, :]\n",
    "x_test = x_test[:, np.newaxis, :, :]"
   ]
  },
  {
   "cell_type": "code",
   "execution_count": 6,
   "id": "e42104cc",
   "metadata": {},
   "outputs": [
    {
     "name": "stdout",
     "output_type": "stream",
     "text": [
      "(1, 28, 28)\n",
      "(8, 28, 28)\n",
      "(8, 28, 28)\n",
      "(6272,)\n",
      "(128,)\n",
      "(128,)\n",
      "(128,)\n",
      "(10,)\n",
      "0\n",
      "2.6573632\n",
      "0.1009\n",
      "1\n",
      "0.5095073\n",
      "0.8196\n",
      "2\n",
      "0.36678398\n",
      "0.878\n",
      "3\n",
      "0.32015944\n",
      "0.8854\n",
      "4\n",
      "0.29134396\n",
      "0.8957\n",
      "5\n",
      "0.3092122\n",
      "0.8901\n",
      "6\n",
      "0.31009218\n",
      "0.8931\n",
      "7\n",
      "0.29489017\n",
      "0.8981\n",
      "8\n",
      "0.29435804\n",
      "0.9057\n",
      "9\n",
      "0.3053244\n",
      "0.9056\n",
      "10\n",
      "0.32968414\n",
      "0.8963\n",
      "11\n",
      "0.343396\n",
      "0.9011\n",
      "12\n",
      "0.33109507\n",
      "0.9051\n",
      "13\n",
      "0.33941552\n",
      "0.9052\n",
      "14\n",
      "0.35621095\n",
      "0.9019\n",
      "15\n",
      "0.3576322\n",
      "0.9047\n",
      "16\n",
      "0.37041178\n",
      "0.9042\n",
      "17\n",
      "0.38616985\n",
      "0.9037\n",
      "18\n",
      "0.38825038\n",
      "0.9027\n",
      "19\n",
      "0.4000115\n",
      "0.9037\n",
      "20\n",
      "0.41150165\n",
      "0.9056\n"
     ]
    },
    {
     "data": {
      "text/plain": [
       "(0.41150165, 0.9056)"
      ]
     },
     "execution_count": 6,
     "metadata": {},
     "output_type": "execute_result"
    }
   ],
   "source": [
    "optimizer = Adam(learning_rate=0.001)\n",
    "\n",
    "input_shape = x_train.shape\n",
    "\n",
    "model_mnist = model([\n",
    "    Conv2D(out_channels=8, kernel_size=3, stride=1, padding=1),\n",
    "    ReLu(), \n",
    "    \n",
    "    flatten(), \n",
    "    \n",
    "    Dense(128),\n",
    "    BatchNorm1D(), \n",
    "    ReLu(), \n",
    "    \n",
    "    Dense(10), \n",
    "    \n",
    "    CrossEntropy(l2_lambda=0)\n",
    "], \n",
    "input_shape=input_shape)\n",
    "\n",
    "\n",
    "trainer_mnist = trainer(model_mnist, x_train, y_train_encoded, custom_train_test_set=(x_train, y_train_encoded, x_test, y_test_encoded))\n",
    "trainer_mnist.train(nb_epochs = 20, optimizer=optimizer, batch_size = 512)\n"
   ]
  }
 ],
 "metadata": {
  "kernelspec": {
   "display_name": "Python 3",
   "language": "python",
   "name": "python3"
  },
  "language_info": {
   "codemirror_mode": {
    "name": "ipython",
    "version": 3
   },
   "file_extension": ".py",
   "mimetype": "text/x-python",
   "name": "python",
   "nbconvert_exporter": "python",
   "pygments_lexer": "ipython3",
   "version": "3.11.4"
  }
 },
 "nbformat": 4,
 "nbformat_minor": 5
}
