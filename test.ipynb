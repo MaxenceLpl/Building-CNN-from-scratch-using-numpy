{
 "cells": [
  {
   "cell_type": "code",
   "execution_count": 1,
   "id": "ccd3064f",
   "metadata": {},
   "outputs": [],
   "source": [
    "import numpy as np"
   ]
  },
  {
   "cell_type": "code",
   "execution_count": 2,
   "id": "c3602c44",
   "metadata": {},
   "outputs": [],
   "source": [
    "from src.lib.model import model\n",
    "from src.lib.activation_functions import ReLu, softmax\n",
    "from src.lib.layers import Dense, flatten\n",
    "from src.lib.loss_functions import CrossEntropy\n",
    "from src.lib.trainer import trainer"
   ]
  },
  {
   "cell_type": "code",
   "execution_count": 3,
   "id": "27b2aaaa",
   "metadata": {},
   "outputs": [],
   "source": [
    "import numpy as np\n",
    "\n",
    "# Générer N vecteurs 4D avec 0 ou 1\n",
    "N = 10000  # nombre d'exemples\n",
    "X = np.random.randint(0, 2, size=(N, 4))\n",
    "\n",
    "# Calculer les targets\n",
    "# XOR entre 1er et 2e élément\n",
    "xor_part = np.logical_xor(X[:, 0], X[:, 1]).astype(int)\n",
    "\n",
    "# AND entre 3e et 4e élément\n",
    "and_part = np.logical_and(X[:, 2], X[:, 3]).astype(int)\n",
    "\n",
    "# OR entre les deux résultats\n",
    "y = np.logical_or(xor_part, and_part).astype(int)\n",
    "# One-hot encoding\n",
    "y_onehot = np.zeros((N, 2))\n",
    "y_onehot[np.arange(N), y] = 1\n"
   ]
  },
  {
   "cell_type": "code",
   "execution_count": 4,
   "id": "bb8aaead",
   "metadata": {},
   "outputs": [],
   "source": [
    "layer1 = Dense(4, 3)\n",
    "layer2 = ReLu()\n",
    "layer3 = Dense(3, 2)\n",
    "layer4 = softmax()\n",
    "layer5 = CrossEntropy(2)"
   ]
  },
  {
   "cell_type": "code",
   "execution_count": 5,
   "id": "505f96b4",
   "metadata": {},
   "outputs": [],
   "source": [
    "layer1.initialise_weights()\n",
    "layer3.initialise_weights()\n",
    "layer5.target = [[0,1]]"
   ]
  },
  {
   "cell_type": "code",
   "execution_count": 6,
   "id": "7a065729",
   "metadata": {},
   "outputs": [],
   "source": [
    "model1 = model([layer1, layer2, layer3, layer4, layer5])"
   ]
  },
  {
   "cell_type": "code",
   "execution_count": 7,
   "id": "48143c2e",
   "metadata": {},
   "outputs": [],
   "source": [
    "train = trainer(model1, X, y_onehot)"
   ]
  },
  {
   "cell_type": "code",
   "execution_count": 8,
   "id": "fb5e8ef0",
   "metadata": {},
   "outputs": [
    {
     "data": {
      "text/plain": [
       "(array([[0.5, 0.5]]), 0.6931471805599453)"
      ]
     },
     "execution_count": 8,
     "metadata": {},
     "output_type": "execute_result"
    }
   ],
   "source": [
    "model1.forward(np.array([[1, 2, 3, 4]]))"
   ]
  },
  {
   "cell_type": "code",
   "execution_count": 9,
   "id": "31795dc2",
   "metadata": {},
   "outputs": [],
   "source": [
    "#train.train(nb_epochs=100)"
   ]
  },
  {
   "cell_type": "code",
   "execution_count": 10,
   "id": "3d1287ac",
   "metadata": {},
   "outputs": [
    {
     "data": {
      "text/plain": [
       "array([[ 0.31262311,  0.20251816,  0.24070563],\n",
       "       [ 0.17735032, -0.54740829, -0.08558153],\n",
       "       [-1.38296107, -0.69357902,  0.02692367],\n",
       "       [-0.94868451, -0.19884166, -0.35971625]])"
      ]
     },
     "execution_count": 10,
     "metadata": {},
     "output_type": "execute_result"
    }
   ],
   "source": [
    "model1.layers[0].weights"
   ]
  },
  {
   "cell_type": "code",
   "execution_count": 11,
   "id": "9d44766f",
   "metadata": {},
   "outputs": [
    {
     "name": "stdout",
     "output_type": "stream",
     "text": [
      "Predicted : [0 0 1 ... 0 0 1]\n",
      "True      : [1 1 1 ... 1 1 1]\n",
      "Test Accuracy: 50.44%\n"
     ]
    }
   ],
   "source": [
    "# 1. Générer nouveaux inputs\n",
    "X_new = np.random.randint(0, 2, size=(N, 4))\n",
    "\n",
    "# 2. Forward pass\n",
    "predictions = model1.predict(X_new)\n",
    "\n",
    "# 3. Trouver classe prédite\n",
    "predicted_classes = np.argmax(predictions, axis=1)\n",
    "\n",
    "# 4. Calculer vraie target logique\n",
    "xor_part = np.logical_xor(X_new[:, 0], X_new[:, 1]).astype(int)\n",
    "and_part = np.logical_and(X_new[:, 2], X_new[:, 3]).astype(int)\n",
    "y_true = np.logical_or(xor_part, and_part).astype(int)\n",
    "\n",
    "# 5. Comparaison\n",
    "print(\"Predicted :\", predicted_classes)\n",
    "print(\"True      :\", y_true)\n",
    "print(f\"Test Accuracy: {np.mean(predicted_classes == y_true)*100:.2f}%\")\n"
   ]
  },
  {
   "cell_type": "code",
   "execution_count": 12,
   "id": "ab014117",
   "metadata": {},
   "outputs": [
    {
     "data": {
      "text/plain": [
       "array([[ 0.31262311,  0.20251816,  0.24070563],\n",
       "       [ 0.17735032, -0.54740829, -0.08558153],\n",
       "       [-1.38296107, -0.69357902,  0.02692367],\n",
       "       [-0.94868451, -0.19884166, -0.35971625]])"
      ]
     },
     "execution_count": 12,
     "metadata": {},
     "output_type": "execute_result"
    }
   ],
   "source": [
    "model1.layers[0].weights"
   ]
  },
  {
   "cell_type": "code",
   "execution_count": 13,
   "id": "65b92632",
   "metadata": {},
   "outputs": [],
   "source": [
    "from src.parser import load_mnist_images, load_mnist_labels\n",
    "import matplotlib.pyplot as plt"
   ]
  },
  {
   "cell_type": "code",
   "execution_count": 14,
   "id": "6f15d82d",
   "metadata": {},
   "outputs": [],
   "source": [
    "images_file = \"data/mnist/train-images.idx3-ubyte\"\n",
    "label_file = \"data/mnist/train-labels.idx1-ubyte\""
   ]
  },
  {
   "cell_type": "code",
   "execution_count": 15,
   "id": "dede91f2",
   "metadata": {},
   "outputs": [],
   "source": [
    "images_train = load_mnist_images(images_file)\n",
    "labels_train = load_mnist_labels(label_file)"
   ]
  },
  {
   "cell_type": "code",
   "execution_count": 16,
   "id": "4798fb29",
   "metadata": {},
   "outputs": [],
   "source": [
    "images_file = \"data/mnist/t10k-images.idx3-ubyte\"\n",
    "label_file = \"data/mnist/t10k-labels.idx1-ubyte\""
   ]
  },
  {
   "cell_type": "code",
   "execution_count": 17,
   "id": "f8b32b0d",
   "metadata": {},
   "outputs": [],
   "source": [
    "images = load_mnist_images(images_file)\n",
    "labels = load_mnist_labels(label_file)"
   ]
  },
  {
   "cell_type": "code",
   "execution_count": 18,
   "id": "5bfa81aa",
   "metadata": {},
   "outputs": [
    {
     "name": "stdout",
     "output_type": "stream",
     "text": [
      "(60000, 10)\n",
      "(10000, 10)\n"
     ]
    }
   ],
   "source": [
    "from tensorflow.keras.datasets import mnist\n",
    "import numpy as np\n",
    "\n",
    "# Charger MNIST\n",
    "(x_train, y_train), (x_test, y_test) = mnist.load_data()\n",
    "\n",
    "# Nombre de classes dans MNIST\n",
    "num_classes = 10\n",
    "\n",
    "# Fonction pour one-hot encoder\n",
    "def one_hot_encode(y, num_classes):\n",
    "    return np.eye(num_classes)[y]\n",
    "\n",
    "# Utilisation\n",
    "y_train_encoded = one_hot_encode(y_train, num_classes)\n",
    "y_test_encoded = one_hot_encode(y_test, num_classes)\n",
    "\n",
    "print(y_train_encoded.shape)  # (60000, 10)\n",
    "print(y_test_encoded.shape)   # (10000, 10)\n",
    "\n"
   ]
  },
  {
   "cell_type": "code",
   "execution_count": 27,
   "id": "0f7514e6",
   "metadata": {},
   "outputs": [],
   "source": [
    "model_mnist = model([flatten(), Dense(784, 128, initialisation='he'), ReLu(), Dense(128, 10, initialisation='he'), CrossEntropy(10)])"
   ]
  },
  {
   "cell_type": "code",
   "execution_count": 28,
   "id": "8f134efd",
   "metadata": {},
   "outputs": [
    {
     "data": {
      "text/plain": [
       "array([[1.00000000e-15, 1.00000000e-15, 7.68194081e-08, 1.00000000e-15,\n",
       "        1.00000000e-15, 1.00000000e-15, 9.99999923e-01, 1.00000000e-15,\n",
       "        1.00000000e-15, 1.00000000e-15]])"
      ]
     },
     "execution_count": 28,
     "metadata": {},
     "output_type": "execute_result"
    }
   ],
   "source": [
    "model_mnist.predict(np.array([x_train[0]]))"
   ]
  },
  {
   "cell_type": "code",
   "execution_count": 21,
   "id": "cbfabf88",
   "metadata": {},
   "outputs": [],
   "source": [
    "trainer_mnist = trainer(model_mnist, x_train, y_train_encoded, custom_train_test_set=(x_train/255, y_train_encoded, x_test/255, y_test_encoded))"
   ]
  },
  {
   "cell_type": "code",
   "execution_count": 22,
   "id": "718be075",
   "metadata": {},
   "outputs": [
    {
     "name": "stdout",
     "output_type": "stream",
     "text": [
      "1\n",
      "0.22046913026844545\n",
      "0.9366\n",
      "2\n",
      "0.162078210269769\n",
      "0.9527\n",
      "3\n",
      "0.13714010946002958\n",
      "0.9606\n",
      "4\n",
      "0.11772832268366441\n",
      "0.9658\n",
      "5\n",
      "0.10504412006376619\n",
      "0.9681\n",
      "6\n",
      "0.09697553405445962\n",
      "0.971\n",
      "7\n",
      "0.09160859184329213\n",
      "0.9728\n",
      "8\n",
      "0.08549930407301597\n",
      "0.9741\n",
      "9\n",
      "0.08294774619230742\n",
      "0.9737\n",
      "10\n",
      "0.0773616357080107\n",
      "0.9753\n",
      "11\n",
      "0.07363051051547675\n",
      "0.9773\n",
      "12\n",
      "0.07782886163857336\n",
      "0.9756\n",
      "13\n",
      "0.07208272606756091\n",
      "0.9774\n",
      "14\n",
      "0.07095782932221459\n",
      "0.9778\n",
      "15\n",
      "0.07053899048553534\n",
      "0.9779\n",
      "16\n",
      "0.0670020638856951\n",
      "0.9795\n",
      "17\n",
      "0.06707537906247593\n",
      "0.9778\n",
      "18\n",
      "0.06855258857885949\n",
      "0.9789\n",
      "19\n",
      "0.06786871604656959\n",
      "0.9781\n",
      "20\n",
      "0.06629951781283142\n",
      "0.9786\n"
     ]
    },
    {
     "data": {
      "text/plain": [
       "(array([[2.39933566e-06, 2.61295120e-08, 2.53149197e-05, ...,\n",
       "         9.99661208e-01, 6.05013960e-07, 7.69129915e-06],\n",
       "        [1.01952899e-08, 3.38583290e-06, 9.99967687e-01, ...,\n",
       "         2.17437012e-12, 1.13559739e-05, 4.88185039e-14],\n",
       "        [8.57891495e-07, 9.96998663e-01, 1.92733635e-04, ...,\n",
       "         4.54305243e-04, 2.06092720e-03, 2.56167407e-05],\n",
       "        ...,\n",
       "        [1.72376484e-11, 2.23897722e-10, 5.66366723e-14, ...,\n",
       "         6.56677080e-07, 1.27597403e-07, 2.42932144e-06],\n",
       "        [4.03419101e-06, 1.73282017e-08, 1.19143378e-09, ...,\n",
       "         4.96711808e-07, 4.52656524e-04, 3.31690015e-10],\n",
       "        [2.37621664e-07, 1.86459631e-10, 6.37970334e-08, ...,\n",
       "         3.72525647e-14, 1.65013134e-09, 1.06048907e-08]]),\n",
       " 0.06629951781283142)"
      ]
     },
     "execution_count": 22,
     "metadata": {},
     "output_type": "execute_result"
    }
   ],
   "source": [
    "trainer_mnist.train(nb_epochs = 20, learning_rate = 0.1)"
   ]
  },
  {
   "cell_type": "code",
   "execution_count": 35,
   "id": "988b9580",
   "metadata": {},
   "outputs": [
    {
     "data": {
      "text/plain": [
       "7"
      ]
     },
     "execution_count": 35,
     "metadata": {},
     "output_type": "execute_result"
    },
    {
     "data": {
      "image/png": "[encoded data removed]",
      "text/plain": [
       "<Figure size 640x480 with 1 Axes>"
      ]
     },
     "metadata": {},
     "output_type": "display_data"
    }
   ],
   "source": [
    "index = 14\n",
    "plt.imshow(x_test[index], cmap='gray')\n",
    "np.argmax(model_mnist.predict(np.array([x_test[index]/255])))"
   ]
  },
  {
   "cell_type": "code",
   "execution_count": 24,
   "id": "72b87a43",
   "metadata": {},
   "outputs": [
    {
     "name": "stderr",
     "output_type": "stream",
     "text": [
      "c:\\Python311\\Lib\\site-packages\\keras\\src\\layers\\reshaping\\flatten.py:37: UserWarning: Do not pass an `input_shape`/`input_dim` argument to a layer. When using Sequential models, prefer using an `Input(shape)` object as the first layer in the model instead.\n",
      "  super().__init__(**kwargs)\n"
     ]
    },
    {
     "name": "stdout",
     "output_type": "stream",
     "text": [
      "Epoch 1/20\n",
      "\u001b[1m938/938\u001b[0m \u001b[32m━━━━━━━━━━━━━━━━━━━━\u001b[0m\u001b[37m\u001b[0m \u001b[1m5s\u001b[0m 4ms/step - accuracy: 0.8414 - loss: 0.5764 - val_accuracy: 0.9348 - val_loss: 0.2253\n",
      "Epoch 2/20\n",
      "\u001b[1m938/938\u001b[0m \u001b[32m━━━━━━━━━━━━━━━━━━━━\u001b[0m\u001b[37m\u001b[0m \u001b[1m4s\u001b[0m 4ms/step - accuracy: 0.9403 - loss: 0.2104 - val_accuracy: 0.9538 - val_loss: 0.1618\n",
      "Epoch 3/20\n",
      "\u001b[1m340/938\u001b[0m \u001b[32m━━━━━━━\u001b[0m\u001b[37m━━━━━━━━━━━━━\u001b[0m \u001b[1m2s\u001b[0m 3ms/step - accuracy: 0.9546 - loss: 0.1566"
     ]
    },
    {
     "ename": "KeyboardInterrupt",
     "evalue": "",
     "output_type": "error",
     "traceback": [
      "\u001b[31m---------------------------------------------------------------------------\u001b[39m",
      "\u001b[31mKeyboardInterrupt\u001b[39m                         Traceback (most recent call last)",
      "\u001b[36mCell\u001b[39m\u001b[36m \u001b[39m\u001b[32mIn[24]\u001b[39m\u001b[32m, line 32\u001b[39m\n\u001b[32m     25\u001b[39m model.compile(\n\u001b[32m     26\u001b[39m     optimizer=tf.keras.optimizers.SGD(learning_rate=\u001b[32m0.1\u001b[39m),  \u001b[38;5;66;03m# Descente de gradient simple\u001b[39;00m\n\u001b[32m     27\u001b[39m     loss=CategoricalCrossentropy(from_logits=\u001b[38;5;28;01mTrue\u001b[39;00m),        \u001b[38;5;66;03m# Important: logits=True car pas de softmax\u001b[39;00m\n\u001b[32m     28\u001b[39m     metrics=[\u001b[33m'\u001b[39m\u001b[33maccuracy\u001b[39m\u001b[33m'\u001b[39m]\n\u001b[32m     29\u001b[39m )\n\u001b[32m     31\u001b[39m \u001b[38;5;66;03m# Entraîner\u001b[39;00m\n\u001b[32m---> \u001b[39m\u001b[32m32\u001b[39m \u001b[43mmodel\u001b[49m\u001b[43m.\u001b[49m\u001b[43mfit\u001b[49m\u001b[43m(\u001b[49m\u001b[43mx_train\u001b[49m\u001b[43m,\u001b[49m\u001b[43m \u001b[49m\u001b[43my_train\u001b[49m\u001b[43m,\u001b[49m\u001b[43m \u001b[49m\u001b[43mepochs\u001b[49m\u001b[43m=\u001b[49m\u001b[32;43m20\u001b[39;49m\u001b[43m,\u001b[49m\u001b[43m \u001b[49m\u001b[43mbatch_size\u001b[49m\u001b[43m=\u001b[49m\u001b[32;43m64\u001b[39;49m\u001b[43m,\u001b[49m\u001b[43m \u001b[49m\u001b[43mvalidation_data\u001b[49m\u001b[43m=\u001b[49m\u001b[43m(\u001b[49m\u001b[43mx_test\u001b[49m\u001b[43m,\u001b[49m\u001b[43m \u001b[49m\u001b[43my_test\u001b[49m\u001b[43m)\u001b[49m\u001b[43m)\u001b[49m\n",
      "\u001b[36mFile \u001b[39m\u001b[32mc:\\Python311\\Lib\\site-packages\\keras\\src\\utils\\traceback_utils.py:117\u001b[39m, in \u001b[36mfilter_traceback.<locals>.error_handler\u001b[39m\u001b[34m(*args, **kwargs)\u001b[39m\n\u001b[32m    115\u001b[39m filtered_tb = \u001b[38;5;28;01mNone\u001b[39;00m\n\u001b[32m    116\u001b[39m \u001b[38;5;28;01mtry\u001b[39;00m:\n\u001b[32m--> \u001b[39m\u001b[32m117\u001b[39m     \u001b[38;5;28;01mreturn\u001b[39;00m \u001b[43mfn\u001b[49m\u001b[43m(\u001b[49m\u001b[43m*\u001b[49m\u001b[43margs\u001b[49m\u001b[43m,\u001b[49m\u001b[43m \u001b[49m\u001b[43m*\u001b[49m\u001b[43m*\u001b[49m\u001b[43mkwargs\u001b[49m\u001b[43m)\u001b[49m\n\u001b[32m    118\u001b[39m \u001b[38;5;28;01mexcept\u001b[39;00m \u001b[38;5;167;01mException\u001b[39;00m \u001b[38;5;28;01mas\u001b[39;00m e:\n\u001b[32m    119\u001b[39m     filtered_tb = _process_traceback_frames(e.__traceback__)\n",
      "\u001b[36mFile \u001b[39m\u001b[32mc:\\Python311\\Lib\\site-packages\\keras\\src\\backend\\tensorflow\\trainer.py:369\u001b[39m, in \u001b[36mTensorFlowTrainer.fit\u001b[39m\u001b[34m(self, x, y, batch_size, epochs, verbose, callbacks, validation_split, validation_data, shuffle, class_weight, sample_weight, initial_epoch, steps_per_epoch, validation_steps, validation_batch_size, validation_freq)\u001b[39m\n\u001b[32m    367\u001b[39m callbacks.on_train_batch_begin(step)\n\u001b[32m    368\u001b[39m logs = \u001b[38;5;28mself\u001b[39m.train_function(iterator)\n\u001b[32m--> \u001b[39m\u001b[32m369\u001b[39m \u001b[43mcallbacks\u001b[49m\u001b[43m.\u001b[49m\u001b[43mon_train_batch_end\u001b[49m\u001b[43m(\u001b[49m\u001b[43mstep\u001b[49m\u001b[43m,\u001b[49m\u001b[43m \u001b[49m\u001b[43mlogs\u001b[49m\u001b[43m)\u001b[49m\n\u001b[32m    370\u001b[39m \u001b[38;5;28;01mif\u001b[39;00m \u001b[38;5;28mself\u001b[39m.stop_training:\n\u001b[32m    371\u001b[39m     \u001b[38;5;28;01mbreak\u001b[39;00m\n",
      "\u001b[36mFile \u001b[39m\u001b[32mc:\\Python311\\Lib\\site-packages\\keras\\src\\callbacks\\callback_list.py:168\u001b[39m, in \u001b[36mCallbackList.on_train_batch_end\u001b[39m\u001b[34m(self, batch, logs)\u001b[39m\n\u001b[32m    165\u001b[39m     \u001b[38;5;28;01melse\u001b[39;00m:\n\u001b[32m    166\u001b[39m         \u001b[38;5;28mself\u001b[39m._on_batch_end(batch, logs)\n\u001b[32m--> \u001b[39m\u001b[32m168\u001b[39m \u001b[38;5;28;01mdef\u001b[39;00m\u001b[38;5;250m \u001b[39m\u001b[34mon_train_batch_end\u001b[39m(\u001b[38;5;28mself\u001b[39m, batch, logs=\u001b[38;5;28;01mNone\u001b[39;00m):\n\u001b[32m    169\u001b[39m     \u001b[38;5;28;01mif\u001b[39;00m \u001b[38;5;28mself\u001b[39m._async_train:\n\u001b[32m    170\u001b[39m         \u001b[38;5;28mself\u001b[39m._async_dispatch(\u001b[38;5;28mself\u001b[39m._on_train_batch_end, batch, logs)\n",
      "\u001b[31mKeyboardInterrupt\u001b[39m: "
     ]
    }
   ],
   "source": [
    "import tensorflow as tf\n",
    "from tensorflow.keras.models import Sequential\n",
    "from tensorflow.keras.layers import Dense, Flatten\n",
    "from tensorflow.keras.losses import CategoricalCrossentropy\n",
    "\n",
    "# Charger MNIST\n",
    "(x_train, y_train), (x_test, y_test) = tf.keras.datasets.mnist.load_data()\n",
    "\n",
    "# Normaliser\n",
    "x_train = x_train / 255.0\n",
    "x_test = x_test / 255.0\n",
    "\n",
    "# One-hot encode les labels\n",
    "y_train = tf.one_hot(y_train, depth=10)\n",
    "y_test = tf.one_hot(y_test, depth=10)\n",
    "\n",
    "# Construire ton modèle\n",
    "model = Sequential([\n",
    "    Flatten(input_shape=(28, 28)),    # Flatten directement\n",
    "    Dense(128, activation='relu'),    # Dense + ReLU\n",
    "    Dense(10),                        # Dense sans activation\n",
    "])\n",
    "\n",
    "# Compiler\n",
    "model.compile(\n",
    "    optimizer=tf.keras.optimizers.SGD(learning_rate=0.1),  # Descente de gradient simple\n",
    "    loss=CategoricalCrossentropy(from_logits=True),        # Important: logits=True car pas de softmax\n",
    "    metrics=['accuracy']\n",
    ")\n",
    "\n",
    "# Entraîner\n",
    "model.fit(x_train, y_train, epochs=20, batch_size=64, validation_data=(x_test, y_test))\n"
   ]
  }
 ],
 "metadata": {
  "kernelspec": {
   "display_name": "Python 3",
   "language": "python",
   "name": "python3"
  },
  "language_info": {
   "codemirror_mode": {
    "name": "ipython",
    "version": 3
   },
   "file_extension": ".py",
   "mimetype": "text/x-python",
   "name": "python",
   "nbconvert_exporter": "python",
   "pygments_lexer": "ipython3",
   "version": "3.11.4"
  }
 },
 "nbformat": 4,
 "nbformat_minor": 5
}
